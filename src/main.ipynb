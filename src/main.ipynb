{
 "cells": [
  {
   "cell_type": "code",
   "execution_count": 1,
   "metadata": {},
   "outputs": [],
   "source": [
    "import numpy as np\n",
    "import pandas as pd"
   ]
  },
  {
   "cell_type": "code",
   "execution_count": 2,
   "metadata": {},
   "outputs": [],
   "source": [
    "np.random.seed(2)\n",
    "\n",
    "dataset_size = [\"small\", \"medium\", \"large\"][0]\n",
    "\n",
    "dataset_info = {\n",
    "    \"small\": {\n",
    "        \"dataset_name\": \"wine\",\n",
    "        \"class_name\": \"Class\",\n",
    "        \"drop_fields\": []\n",
    "    },\n",
    "    \"medium\": {\n",
    "        \"dataset_name\": \"breast-cancer-wisconsin\",\n",
    "        \"class_name\": \"Class\",\n",
    "        \"drop_fields\": [\"Sample code number\"]\n",
    "    },\n",
    "    \"large\": {\n",
    "        \"dataset_name\": \"seismic-bumps\",\n",
    "        \"class_name\": \"class\",\n",
    "        \"drop_fields\": []\n",
    "    }\n",
    "}\n",
    "\n",
    "dataset_name = dataset_info[dataset_size][\"dataset_name\"]\n",
    "class_name = dataset_info[dataset_size][\"class_name\"]\n",
    "drop_fields = dataset_info[dataset_size][\"drop_fields\"]\n",
    "\n",
    "df = pd.read_csv('../data/' + dataset_name + \".csv\")\n",
    "df = df.drop(drop_fields, axis=1)\n",
    "df = df.iloc[np.random.permutation(len(df))]\n",
    "\n",
    "n_cut = int(0.8*len(df))\n",
    "df_trn = df[:n_cut]\n",
    "df_tst = df[n_cut:]\n",
    "\n",
    "X_trn = df_trn.drop(class_name, axis=1)\n",
    "y_trn = df_trn[class_name]\n",
    "\n",
    "X_tst = df_tst.drop(class_name, axis=1)\n",
    "y_tst = df_tst[class_name]"
   ]
  },
  {
   "cell_type": "code",
   "execution_count": 4,
   "metadata": {},
   "outputs": [],
   "source": [
    "X = [['blue', 'blonde', 'tall'],\n",
    "     ['blue', 'brown', 'medium'],\n",
    "     ['brown', 'brown', 'medium'],\n",
    "     ['green', 'brown', 'medium'],\n",
    "     ['green', 'brown', 'tall'],\n",
    "     ['brown', 'brown', 'low'], \n",
    "     ['green', 'blonde', 'low'],\n",
    "     ['blue', 'brown', 'medium']]\n",
    "\n",
    "X = np.array(X)\n",
    "y = np.array([1, 1, 0, 0, 1, 0, 0, 1])"
   ]
  },
  {
   "cell_type": "code",
   "execution_count": 1,
   "metadata": {},
   "outputs": [],
   "source": [
    "def Gini_X(X, y):\n",
    "    G = 1\n",
    "    for cls in np.unique(y):\n",
    "        G -= ((y == cls).sum() / len(X))**2\n",
    "    return G\n",
    "\n",
    "\n",
    "def Gini_X_A(X, y, A):\n",
    "    features, values = A\n",
    "    feature1, feature2 = features\n",
    "    values1, values2 = values\n",
    "    \n",
    "    ind1 = np.isin(X[:, feature1], values1) \n",
    "    X1 = X[ind1, :]\n",
    "    y1 = y[ind1]\n",
    "    \n",
    "    ind2 = np.isin(X[:, feature2], values2) \n",
    "    X2 = X[ind2, :]\n",
    "    y2 = y[ind2]\n",
    "    \n",
    "    return len(X1) / len(X) * Gini_X(X1, y1) + len(X2) / len(X) * Gini_X(X2, y2)\n"
   ]
  },
  {
   "cell_type": "code",
   "execution_count": 10,
   "metadata": {},
   "outputs": [
    {
     "data": {
      "text/plain": [
       "0.5"
      ]
     },
     "execution_count": 10,
     "metadata": {},
     "output_type": "execute_result"
    }
   ],
   "source": [
    "Gini_X(X, y)"
   ]
  },
  {
   "cell_type": "code",
   "execution_count": null,
   "metadata": {},
   "outputs": [],
   "source": []
  }
 ],
 "metadata": {
  "interpreter": {
   "hash": "66403a1342d2aa7accf4b5905b124973c3be20b2a1242511608c6e5eca88e39b"
  },
  "kernelspec": {
   "display_name": "Python 3.9.5 ('mai')",
   "language": "python",
   "name": "python3"
  },
  "language_info": {
   "codemirror_mode": {
    "name": "ipython",
    "version": 3
   },
   "file_extension": ".py",
   "mimetype": "text/x-python",
   "name": "python",
   "nbconvert_exporter": "python",
   "pygments_lexer": "ipython3",
   "version": "3.9.5"
  },
  "orig_nbformat": 4
 },
 "nbformat": 4,
 "nbformat_minor": 2
}
