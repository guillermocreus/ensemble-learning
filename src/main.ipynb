{
 "cells": [
  {
   "cell_type": "code",
   "execution_count": 55,
   "metadata": {},
   "outputs": [],
   "source": [
    "import numpy as np\n",
    "import pandas as pd"
   ]
  },
  {
   "cell_type": "code",
   "execution_count": 2,
   "metadata": {},
   "outputs": [],
   "source": [
    "np.random.seed(2)\n",
    "\n",
    "dataset_size = [\"small\", \"medium\", \"large\"][0]\n",
    "\n",
    "dataset_info = {\n",
    "    \"small\": {\n",
    "        \"dataset_name\": \"wine\",\n",
    "        \"class_name\": \"Class\",\n",
    "        \"drop_fields\": []\n",
    "    },\n",
    "    \"medium\": {\n",
    "        \"dataset_name\": \"breast-cancer-wisconsin\",\n",
    "        \"class_name\": \"Class\",\n",
    "        \"drop_fields\": [\"Sample code number\"]\n",
    "    },\n",
    "    \"large\": {\n",
    "        \"dataset_name\": \"seismic-bumps\",\n",
    "        \"class_name\": \"class\",\n",
    "        \"drop_fields\": []\n",
    "    }\n",
    "}\n",
    "\n",
    "dataset_name = dataset_info[dataset_size][\"dataset_name\"]\n",
    "class_name = dataset_info[dataset_size][\"class_name\"]\n",
    "drop_fields = dataset_info[dataset_size][\"drop_fields\"]\n",
    "\n",
    "df = pd.read_csv('../data/' + dataset_name + \".csv\")\n",
    "df = df.drop(drop_fields, axis=1)\n",
    "df = df.iloc[np.random.permutation(len(df))]\n",
    "\n",
    "n_cut = int(0.8*len(df))\n",
    "df_trn = df[:n_cut]\n",
    "df_tst = df[n_cut:]\n",
    "\n",
    "X_trn = df_trn.drop(class_name, axis=1)\n",
    "y_trn = df_trn[class_name]\n",
    "\n",
    "X_tst = df_tst.drop(class_name, axis=1)\n",
    "y_tst = df_tst[class_name]"
   ]
  },
  {
   "cell_type": "code",
   "execution_count": 2,
   "metadata": {},
   "outputs": [
    {
     "name": "stdout",
     "output_type": "stream",
     "text": [
      "(array(['brown'], dtype='<U6'), array(['blonde'], dtype='<U6')) 0.5\n",
      "(array(['low'], dtype='<U6'), array(['medium', 'tall'], dtype='<U6')) 0.3333333333333333\n",
      "(array(['low', 'tall'], dtype='<U6'), array(['medium'], dtype='<U6')) 0.5\n",
      "(array(['low', 'medium'], dtype='<U6'), array(['tall'], dtype='<U6')) 0.33333333333333337\n",
      "(array(['blue'], dtype='<U6'), array(['brown', 'green'], dtype='<U6')) 0.1999999999999999\n",
      "(array(['blue', 'green'], dtype='<U6'), array(['brown'], dtype='<U6')) 0.3333333333333333\n",
      "(array(['blue', 'brown'], dtype='<U6'), array(['green'], dtype='<U6')) 0.4666666666666667\n",
      "(array(['brown'], dtype='<U6'), array(['blonde'], dtype='<U6')) 0.30000000000000004\n",
      "(array(['green'], dtype='<U6'), array(['brown'], dtype='<U6')) 0.26666666666666666\n",
      "(array(['low'], dtype='<U6'), array(['medium', 'tall'], dtype='<U6')) 0.26666666666666666\n",
      "(array(['low', 'tall'], dtype='<U6'), array(['medium'], dtype='<U6')) 0.26666666666666666\n",
      "(array(['low', 'medium'], dtype='<U6'), array(['tall'], dtype='<U6')) 0.0\n"
     ]
    },
    {
     "data": {
      "text/plain": [
       "array([1, 1, 0, 0, 1, 0, 0, 1])"
      ]
     },
     "execution_count": 2,
     "metadata": {},
     "output_type": "execute_result"
    }
   ],
   "source": [
    "from CART import CART\n",
    "\n",
    "X = [['blue', 'blonde', 'tall'],\n",
    "     ['blue', 'brown', 'medium'],\n",
    "     ['brown', 'brown', 'medium'],\n",
    "     ['green', 'brown', 'medium'],\n",
    "     ['green', 'brown', 'tall'],\n",
    "     ['brown', 'brown', 'low'], \n",
    "     ['green', 'blonde', 'low'],\n",
    "     ['blue', 'brown', 'medium']]\n",
    "\n",
    "X = np.array(X)\n",
    "y = np.array([1, 1, 0, 0, 1, 0, 0, 1])\n",
    "\n",
    "\n",
    "clf = CART(max_depth=10)\n",
    "clf.fit(X, y)\n",
    "clf.predict(X)"
   ]
  },
  {
   "cell_type": "code",
   "execution_count": 194,
   "metadata": {},
   "outputs": [
    {
     "data": {
      "text/plain": [
       "array([1, 1, 0, 0, 1, 0, 0, 1])"
      ]
     },
     "execution_count": 194,
     "metadata": {},
     "output_type": "execute_result"
    }
   ],
   "source": [
    "y"
   ]
  },
  {
   "cell_type": "code",
   "execution_count": null,
   "metadata": {},
   "outputs": [],
   "source": []
  }
 ],
 "metadata": {
  "interpreter": {
   "hash": "66403a1342d2aa7accf4b5905b124973c3be20b2a1242511608c6e5eca88e39b"
  },
  "kernelspec": {
   "display_name": "Python 3.9.5 ('mai')",
   "language": "python",
   "name": "python3"
  },
  "language_info": {
   "codemirror_mode": {
    "name": "ipython",
    "version": 3
   },
   "file_extension": ".py",
   "mimetype": "text/x-python",
   "name": "python",
   "nbconvert_exporter": "python",
   "pygments_lexer": "ipython3",
   "version": "3.9.5"
  },
  "orig_nbformat": 4
 },
 "nbformat": 4,
 "nbformat_minor": 2
}
